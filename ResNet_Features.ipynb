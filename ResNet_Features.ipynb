{
  "nbformat": 4,
  "nbformat_minor": 0,
  "metadata": {
    "colab": {
      "provenance": [],
      "gpuType": "T4",
      "mount_file_id": "1RsygPaPsk7p1vDc-4piCxGPSfRpuMceM",
      "authorship_tag": "ABX9TyOzQthD6htw01J4e2TYO0/Y",
      "include_colab_link": true
    },
    "kernelspec": {
      "name": "python3",
      "display_name": "Python 3"
    },
    "language_info": {
      "name": "python"
    },
    "accelerator": "GPU"
  },
  "cells": [
    {
      "cell_type": "markdown",
      "metadata": {
        "id": "view-in-github",
        "colab_type": "text"
      },
      "source": [
        "<a href=\"https://colab.research.google.com/github/GuidoGiacomoMussini/Born_rule_Image_Classification/blob/main/ResNet_Features.ipynb\" target=\"_parent\"><img src=\"https://colab.research.google.com/assets/colab-badge.svg\" alt=\"Open In Colab\"/></a>"
      ]
    },
    {
      "cell_type": "code",
      "source": [
        "import numpy as np\n",
        "import pandas as pd\n",
        "import tensorflow as tf\n",
        "from keras.applications.resnet50 import ResNet50, preprocess_input\n",
        "from keras.models import Model\n",
        "from keras.datasets import cifar10\n",
        "\n",
        "# Load the CIFAR-10 dataset\n",
        "(x_train, y_train), (x_test, y_test) = cifar10.load_data()\n",
        "\n",
        "# Concatenate training and test data\n",
        "X = np.concatenate((x_train, x_test), axis=0)\n",
        "y = np.concatenate((y_train, y_test), axis=0).flatten()\n",
        "\n",
        "# Initialize the ResNet50 model pre-trained on ImageNet\n",
        "base_model = ResNet50(weights='imagenet', include_top=False, input_shape=(32, 32, 3))\n",
        "\n",
        "# Define intermediate models to extract features from different blocks\n",
        "layers_of_interest = ['conv2_block3_out', 'conv3_block4_out', 'conv4_block6_out', 'conv5_block3_out']\n",
        "models = [Model(inputs=base_model.input, outputs=base_model.get_layer(layer).output) for layer in layers_of_interest]\n",
        "\n",
        "# Preprocess the images for ResNet50\n",
        "X_preprocessed = preprocess_input(X)\n",
        "\n",
        "# Check if GPU is available\n",
        "print(\"GPU is\", \"available\" if tf.config.list_physical_devices('GPU') else \"NOT AVAILABLE\")\n",
        "\n",
        "# Extract and save features for each layer\n",
        "feature_dfs = {}\n",
        "for layer_name, model in zip(layers_of_interest, models):\n",
        "    features = model.predict(X_preprocessed, batch_size=64)\n",
        "    features_list = [features[i] for i in range(features.shape[0])]\n",
        "    df = pd.DataFrame({\n",
        "        'image': list(X.squeeze()),  # Assuming images are in grayscale; modify if RGB\n",
        "        'descriptors': features_list,\n",
        "        'label': y\n",
        "    })\n",
        "    feature_dfs[layer_name] = df\n",
        "\n",
        "    df.to_pickle(f'/content/drive/MyDrive/Colab Notebooks/Universita/Tesi/Script_Definitivi/cifar10_ResNet_features_{layer_name}.pkl')\n",
        "    print(f\"layer {layer_name} saved\")"
      ],
      "metadata": {
        "colab": {
          "base_uri": "https://localhost:8080/"
        },
        "id": "aYo5NPvR5fzO",
        "outputId": "a748bff0-5ee7-4bc4-f631-3b0edcb742e0"
      },
      "execution_count": null,
      "outputs": [
        {
          "output_type": "stream",
          "name": "stdout",
          "text": [
            "GPU is available\n",
            "938/938 [==============================] - 6s 4ms/step\n",
            "layer conv2_block3_out saved\n",
            "938/938 [==============================] - 6s 6ms/step\n",
            "layer conv3_block4_out saved\n",
            "938/938 [==============================] - 15s 15ms/step\n",
            "layer conv4_block6_out saved\n",
            "938/938 [==============================] - 11s 10ms/step\n",
            "layer conv5_block3_out saved\n"
          ]
        }
      ]
    },
    {
      "cell_type": "code",
      "source": [
        "df.to_pickle('/content/drive/MyDrive/Colab Notebooks/Universita/Tesi/Script_Definitivi/cifar10_ResNet_Features.pkl')"
      ],
      "metadata": {
        "id": "NbcEwWdZ7JQn"
      },
      "execution_count": null,
      "outputs": []
    }
  ]
}