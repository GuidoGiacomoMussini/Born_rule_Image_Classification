{
  "nbformat": 4,
  "nbformat_minor": 0,
  "metadata": {
    "colab": {
      "provenance": [],
      "gpuType": "L4",
      "machine_shape": "hm",
      "mount_file_id": "1SXy-IvN02wFW16jvdymkGm5pc2xYQvNj",
      "authorship_tag": "ABX9TyOGufXIdLDY7xNEfxWzFh7p",
      "include_colab_link": true
    },
    "kernelspec": {
      "name": "python3",
      "display_name": "Python 3"
    },
    "language_info": {
      "name": "python"
    },
    "accelerator": "GPU"
  },
  "cells": [
    {
      "cell_type": "markdown",
      "metadata": {
        "id": "view-in-github",
        "colab_type": "text"
      },
      "source": [
        "<a href=\"https://colab.research.google.com/github/GuidoGiacomoMussini/Born_rule_Image_Classification/blob/main/DeTR_Features.ipynb\" target=\"_parent\"><img src=\"https://colab.research.google.com/assets/colab-badge.svg\" alt=\"Open In Colab\"/></a>"
      ]
    },
    {
      "cell_type": "code",
      "source": [
        "import numpy as np\n",
        "import torch\n",
        "from transformers import DetrForObjectDetection, DetrImageProcessor\n",
        "from tensorflow.keras.datasets import cifar10\n",
        "import cv2\n",
        "#import timm\n",
        "import pandas as pd\n",
        "from tqdm.notebook import tqdm\n"
      ],
      "metadata": {
        "id": "agvem0b2-G00"
      },
      "execution_count": null,
      "outputs": []
    },
    {
      "cell_type": "code",
      "source": [
        "device = torch.device('cuda' if torch.cuda.is_available() else 'cpu')\n",
        "device"
      ],
      "metadata": {
        "id": "PHU_VvpVMYFu"
      },
      "execution_count": null,
      "outputs": []
    },
    {
      "cell_type": "code",
      "source": [
        "# CIFAR10\n",
        "(x_train, y_train), (x_test, y_test) = cifar10.load_data()\n",
        "X = np.concatenate((x_train, x_test), axis=0)\n",
        "y = np.concatenate((y_train, y_test), axis=0).flatten()\n",
        "\n",
        "# DeTR\n",
        "processor = DetrImageProcessor.from_pretrained('facebook/detr-resnet-50', revision=\"no_timm\")\n",
        "model = DetrForObjectDetection.from_pretrained('facebook/detr-resnet-50', revision=\"no_timm\").to(device)"
      ],
      "metadata": {
        "id": "tutYousZMCXu"
      },
      "execution_count": null,
      "outputs": []
    },
    {
      "cell_type": "code",
      "source": [
        "def extract_bounding_boxes(images, model, processor, max_objects=5, device='cuda'):\n",
        "    results = []\n",
        "\n",
        "    model.eval()\n",
        "    model.to(device)\n",
        "\n",
        "    for idx, image in tqdm(enumerate(images), total=len(images)):\n",
        "\n",
        "        image_rgb = cv2.cvtColor(image, cv2.COLOR_BGR2RGB)\n",
        "        image_rgb = Image.fromarray(image_rgb)\n",
        "\n",
        "        # Preprocess\n",
        "        inputs = processor(images=image_rgb, return_tensors=\"pt\").to(device)\n",
        "\n",
        "        # model outputs\n",
        "        with torch.no_grad():\n",
        "            outputs = model(**inputs)\n",
        "\n",
        "        # Bounding box\n",
        "        target_sizes = torch.tensor([image_rgb.size[::-1]])  # size format: (height, width)\n",
        "        detection_results = processor.post_process_object_detection(outputs, target_sizes=target_sizes)[0]\n",
        "\n",
        "        boxes = detection_results[\"boxes\"].detach().cpu().numpy()\n",
        "        scores = detection_results[\"scores\"].detach().cpu().numpy()\n",
        "\n",
        "        #filter the results\n",
        "        sorted_indices = np.argsort(scores)[::-1]\n",
        "        selected_indices = sorted_indices[:max_objects]\n",
        "        filtered_boxes = boxes[selected_indices]\n",
        "\n",
        "        # store\n",
        "        results.append({\n",
        "            'image_index': idx,\n",
        "            'bounding_boxes': filtered_boxes.tolist()\n",
        "        })\n",
        "\n",
        "    return results\n"
      ],
      "metadata": {
        "id": "rojzJ8qC-Kcq"
      },
      "execution_count": null,
      "outputs": []
    },
    {
      "cell_type": "code",
      "source": [
        "results = extract_bounding_boxes(X, model, processor, max_objects=5, device='cuda')\n",
        "\n",
        "df = pd.DataFrame(results)\n",
        "\n",
        "df['image'] = [X[idx] for idx in df['image_index']]\n",
        "df['label'] = [y[idx] for idx in df['image_index']]\n",
        "\n",
        "df.head()"
      ],
      "metadata": {
        "id": "sTDyMR5h-NFV"
      },
      "execution_count": null,
      "outputs": []
    },
    {
      "cell_type": "code",
      "source": [
        "\n",
        "df.to_pickle('/content/drive/MyDrive/Colab Notebooks/Universita/Tesi/Script_Definitivi/bounding_boxes_correct.pkl')"
      ],
      "metadata": {
        "id": "_sZRrfpkQTvz"
      },
      "execution_count": null,
      "outputs": []
    },
    {
      "cell_type": "code",
      "source": [
        "# df=pd.read_pickle('/content/drive/MyDrive/Colab Notebooks/Universita/Tesi/Script_Definitivi/bounding_boxes_correct.pkl')\n",
        "# df['check_'] = [1 if len(df.bounding_boxes[i]) == 0 else 0 for i in range(len(df))]\n",
        "# df = df[df.check_ == 0]\n",
        "# df = df.drop(columns = ['image_index', 'check_']).reset_index(drop=True)"
      ],
      "metadata": {
        "id": "lJE1yXXJojzR"
      },
      "execution_count": null,
      "outputs": []
    },
    {
      "cell_type": "code",
      "source": [],
      "metadata": {
        "id": "nGyhDruqlwZj"
      },
      "execution_count": null,
      "outputs": []
    },
    {
      "cell_type": "code",
      "source": [
        "import numpy as np\n",
        "import tensorflow as tf\n",
        "from keras.applications.resnet50 import ResNet50, preprocess_input\n",
        "from keras.models import Model\n",
        "from keras.preprocessing.image import array_to_img, img_to_array\n",
        "import cv2\n",
        "import pandas as pd\n",
        "from PIL import Image\n",
        "\n",
        "def extract_rounding_box_pixel_features(image, bounding_boxes):\n",
        "    features = []\n",
        "    for box in bounding_boxes:\n",
        "        box = [int(b) for b in box]\n",
        "        cropped_image = image.crop((box[0], box[1], box[2], box[3]))\n",
        "        cropped_image = cropped_image.resize((32, 32))\n",
        "        cropped_image = np.array(cropped_image).flatten()\n",
        "        features.append(cropped_image)\n",
        "    return features\n",
        "\n",
        "def extract_rounding_box_resnet_features(image, bounding_boxes, model):\n",
        "    features = []\n",
        "    for box in bounding_boxes:\n",
        "        box = [int(b) for b in box]\n",
        "        cropped_image = image.crop((box[0], box[1], box[2], box[3]))  # crop the image using bounding box\n",
        "        cropped_image = cropped_image.resize((32, 32))  # resize\n",
        "        cropped_image = cropped_image.convert(\"RGB\")\n",
        "\n",
        "        # img2array\n",
        "        cropped_image_array = np.array(cropped_image)\n",
        "        cropped_image_array = np.expand_dims(cropped_image_array, axis=0)\n",
        "        cropped_image_array = preprocess_input(cropped_image_array)\n",
        "\n",
        "        # embed w resnet\n",
        "        feature_vector = model.predict(cropped_image_array)\n",
        "        feature_vector = feature_vector.flatten()\n",
        "\n",
        "        features.append(feature_vector)\n",
        "    return features\n",
        "\n"
      ],
      "metadata": {
        "id": "_dSuLUjQCo5p"
      },
      "execution_count": null,
      "outputs": []
    },
    {
      "cell_type": "code",
      "source": [
        "print(\"Num GPUs Available: \", len(tf.config.experimental.list_physical_devices('GPU')))\n",
        "\n",
        "base_model = ResNet50(weights='imagenet', include_top=False, input_shape=(32, 32, 3))\n",
        "model_resnet = Model(inputs=base_model.input, outputs=base_model.output)"
      ],
      "metadata": {
        "id": "HnSs90FLEKE8"
      },
      "execution_count": null,
      "outputs": []
    },
    {
      "cell_type": "code",
      "source": [
        "# extract features\n",
        "data = []\n",
        "\n",
        "for idx, row in tqdm(df.iterrows(), total=len(df)):\n",
        "    image = Image.fromarray(row['image'])\n",
        "\n",
        "    bounding_boxes = row['bounding_boxes'] #bounding box\n",
        "\n",
        "    # pixel features\n",
        "    pixel_features = extract_rounding_box_pixel_features(image, bounding_boxes)\n",
        "\n",
        "    # ResNet features\n",
        "    resnet_features = extract_rounding_box_resnet_features(image, bounding_boxes, model_resnet)\n",
        "\n",
        "    # aggregate results\n",
        "    for pixel_feature, resnet_feature in zip(pixel_features, resnet_features):\n",
        "        data.append({\n",
        "            'image': row['image'],\n",
        "            'pixel_feature': pixel_feature,\n",
        "            'resnet_feature': resnet_feature,\n",
        "            'label': row['label']\n",
        "        })\n",
        "\n",
        "\n",
        "final_df = pd.DataFrame(data)\n",
        "final_df.head()\n"
      ],
      "metadata": {
        "id": "T-EKGeM5ENnj"
      },
      "execution_count": null,
      "outputs": []
    },
    {
      "cell_type": "code",
      "source": [
        "final_df.to_pickle('/content/drive/MyDrive/Colab Notebooks/Universita/Tesi/Script_Definitivi/final_features.pkl')"
      ],
      "metadata": {
        "id": "6DiQOyJPFMJw"
      },
      "execution_count": null,
      "outputs": []
    }
  ]
}