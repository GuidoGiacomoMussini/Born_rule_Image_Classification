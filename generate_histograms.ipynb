{
 "cells": [
  {
   "cell_type": "markdown",
   "metadata": {},
   "source": [
    "### Dependencies"
   ]
  },
  {
   "cell_type": "code",
   "execution_count": 2,
   "metadata": {},
   "outputs": [],
   "source": [
    "import pandas as pd\n",
    "import numpy as np\n",
    "from collections import Counter\n",
    "import pickle\n",
    "#from tqdm import tqdm as progress_bar\n",
    "import cv2\n",
    "from sklearn.metrics import f1_score, confusion_matrix\n",
    "from sklearn.model_selection import GridSearchCV, train_test_split\n",
    "from tqdm import tqdm as progress_bar\n",
    "\n",
    "from keras.datasets import cifar10\n",
    "\n",
    "import os\n",
    "import cv2\n",
    "import pickle\n",
    "import numpy as np\n",
    "from sklearn.model_selection import train_test_split\n",
    "from sklearn.cluster import MiniBatchKMeans\n",
    "from scipy.spatial.distance import cdist\n",
    "from Born_Functions import *\n",
    "\n",
    "FE = Feature_Extraction()"
   ]
  },
  {
   "cell_type": "markdown",
   "metadata": {},
   "source": [
    "### Classes"
   ]
  },
  {
   "cell_type": "markdown",
   "metadata": {},
   "source": [
    "#### Preprocessing"
   ]
  },
  {
   "cell_type": "code",
   "execution_count": 6,
   "metadata": {},
   "outputs": [],
   "source": [
    "# Classe per il preprocessing\n",
    "class Preprocessing:\n",
    "    def __init__(self, extractor_dict):\n",
    "        self.extractor_dict = extractor_dict\n",
    "\n",
    "    def extract_descriptors(self, image, extractor):\n",
    "        '''\n",
    "        Extract the features of an image using a given extractor.\n",
    "        Inputs:\n",
    "            image: grayscale image of size (32, 32)\n",
    "        Outputs:\n",
    "            descriptors: np.array of size (extractor_len)\n",
    "            kpoints: list of keypoints detected in the image\n",
    "        '''\n",
    "        kpoints, descriptors = extractor.detectAndCompute(image, None)\n",
    "        \n",
    "        if descriptors is None:\n",
    "            return None, None\n",
    "        \n",
    "        return descriptors, kpoints\n",
    "\n",
    "    def run_preprocess(self, X, y, extractor_name, test_size):\n",
    "        '''\n",
    "        Image preprocessing to create train and test sets, removing images without descriptors.\n",
    "        Inputs:\n",
    "            X: list of RGB or grayscale images\n",
    "            y: labels associated with the images\n",
    "            extractor_name: key name of the desired feature extractor\n",
    "            test_size: fraction of the dataset to be used as test set\n",
    "        Outputs:\n",
    "            descriptors_train: list of training set descriptors\n",
    "            descriptors_test: list of test set descriptors\n",
    "            y_train: training set labels\n",
    "            y_test: test set labels\n",
    "        '''\n",
    "        extractor = self.extractor_dict[extractor_name]\n",
    "        filtered_X = []\n",
    "        filtered_y = []\n",
    "        missing_count = 0\n",
    "\n",
    "        for img, label in zip(X, y):\n",
    "            descriptors, kpoints = self.extract_descriptors(img, extractor)\n",
    "            if descriptors is not None:\n",
    "                filtered_X.append(descriptors)\n",
    "                filtered_y.append(label)\n",
    "            else:\n",
    "                missing_count += 1\n",
    "\n",
    "        print(f\"Removed {missing_count} images due to missing descriptors.\")\n",
    "\n",
    "        descriptors_train, descriptors_test, y_train, y_test = train_test_split(filtered_X, filtered_y, test_size=test_size, random_state=19)\n",
    "        \n",
    "        return descriptors_train, descriptors_test, y_train, y_test\n",
    "\n"
   ]
  },
  {
   "cell_type": "markdown",
   "metadata": {},
   "source": [
    "#### Extract_histograms"
   ]
  },
  {
   "cell_type": "code",
   "execution_count": 7,
   "metadata": {},
   "outputs": [],
   "source": [
    "class Extract_Histograms:\n",
    "    def __init__(self, supported_distance_metrics, k_values):\n",
    "        self.supported_distance_metrics = supported_distance_metrics\n",
    "        self.k_values = k_values\n",
    "\n",
    "    def build_visual_vocabulary(self, descriptors_list, k):\n",
    "        features_reshaped = np.vstack([desc for desc in descriptors_list if desc is not None])\n",
    "        minibatch_kmeans = MiniBatchKMeans(n_clusters=k, random_state=0, batch_size=100, n_init=3)\n",
    "        minibatch_kmeans.fit(features_reshaped)\n",
    "        visual_vocab = minibatch_kmeans.cluster_centers_\n",
    "        return visual_vocab\n",
    "\n",
    "    def build_histograms(self, descriptors_list, visual_vocab, distance_metric):\n",
    "        k = visual_vocab.shape[0]\n",
    "        histograms = np.zeros((len(descriptors_list), k))\n",
    "        for i, descriptors in enumerate(descriptors_list):\n",
    "            if descriptors is None:\n",
    "                continue\n",
    "            distances = cdist(descriptors, visual_vocab, metric=distance_metric)\n",
    "            closest_clusters = np.argmin(distances, axis=1)\n",
    "            for cluster_idx in closest_clusters:\n",
    "                histograms[i][cluster_idx] += 1\n",
    "        return histograms\n",
    "\n",
    "    def run_configuration(self, descriptors_train, descriptors_test, k, distance_metric_):\n",
    "        visual_vocab = self.build_visual_vocabulary(descriptors_train, k)\n",
    "        distance_metric = self.supported_distance_metrics[distance_metric_]\n",
    "        histograms_train = self.build_histograms(descriptors_train, visual_vocab, distance_metric)\n",
    "        histograms_test = self.build_histograms(descriptors_test, visual_vocab, distance_metric)\n",
    "        \n",
    "        return histograms_train, histograms_test\n",
    "\n"
   ]
  },
  {
   "cell_type": "markdown",
   "metadata": {},
   "source": [
    "#### all_config_function"
   ]
  },
  {
   "cell_type": "code",
   "execution_count": 8,
   "metadata": {},
   "outputs": [],
   "source": [
    "def run_all_configurations(Dataset, X, y, extractor_dict, supported_distance_metrics, k_values, test_size=0.2):\n",
    "    preprocessing = Preprocessing(extractor_dict)\n",
    "    extract_histograms = Extract_Histograms(supported_distance_metrics, k_values)\n",
    "    \n",
    "    if not os.path.exists('Histogram_configurations'):\n",
    "        os.makedirs('Histogram_configurations')\n",
    "    \n",
    "    for extractor_name in extractor_dict.keys():\n",
    "        descriptors_train, descriptors_test, y_train, y_test = preprocessing.run_preprocess(X, y, extractor_name, test_size)\n",
    "        \n",
    "        for distance_metric in supported_distance_metrics.keys():\n",
    "            for k in k_values:\n",
    "                histograms_train, histograms_test = extract_histograms.run_configuration(descriptors_train, descriptors_test, k, distance_metric)\n",
    "                \n",
    "                file_name = f'{Dataset}_{extractor_name}_{distance_metric}_{k}.pkl'\n",
    "                file_path = os.path.join('Histogram_configurations', file_name)\n",
    "                \n",
    "                with open(file_path, 'wb') as f:\n",
    "                    pickle.dump({\n",
    "                        'histograms_train': histograms_train,\n",
    "                        'y_train': y_train,\n",
    "                        'histograms_test': histograms_test,\n",
    "                        'y_test': y_test\n",
    "                    }, f)\n",
    "                \n",
    "                print(f'Saved configuration: {file_name}')\n"
   ]
  },
  {
   "cell_type": "markdown",
   "metadata": {},
   "source": [
    "### Run"
   ]
  },
  {
   "cell_type": "code",
   "execution_count": 13,
   "metadata": {},
   "outputs": [],
   "source": [
    "##CIFAR10\n",
    "# (x_train, y_train), (x_test, y_test) = cifar10.load_data()\n",
    "\n",
    "\n",
    "# X = np.concatenate((x_train, x_test), axis=0)\n",
    "# y = np.concatenate((y_train, y_test), axis=0).flatten()\n",
    "\n",
    "# X =  np.array([FE.convert_to_grayscale(img) for img in X])\n",
    "\n",
    "##IMAGENET\n",
    "df = pd.read_pickle(\"imagenet.pkl\")\n",
    "df.columns = [\"images\", \"labels\"]\n",
    "\n",
    "# resize images\n",
    "image_size = (256, 256)\n",
    "\n",
    "# Ridimensionare tutte le immagini e convertirle in un array\n",
    "X = np.array([cv2.resize(img, image_size, interpolation=cv2.INTER_AREA) for img in df[\"images\"]])\n",
    "y = df[\"labels\"].to_numpy()"
   ]
  },
  {
   "cell_type": "code",
   "execution_count": 14,
   "metadata": {},
   "outputs": [],
   "source": [
    "extractor_dict = {\n",
    "    'SIFT': cv2.SIFT_create(),\n",
    "    'ORB': cv2.ORB_create(edgeThreshold=10)\n",
    "}\n",
    "\n",
    "supported_distance_metrics = {\n",
    "    'euclidean': 'euclidean',\n",
    "    'cosine': 'cosine'\n",
    "}\n",
    "\n",
    "k_values = [10, 100, 1000, 2500, 5000]"
   ]
  },
  {
   "cell_type": "code",
   "execution_count": 15,
   "metadata": {},
   "outputs": [
    {
     "name": "stdout",
     "output_type": "stream",
     "text": [
      "Removed 1 images due to missing descriptors.\n",
      "Saved configuration: IMAGENET_SIFT_euclidean_10.pkl\n",
      "Saved configuration: IMAGENET_SIFT_euclidean_100.pkl\n",
      "Saved configuration: IMAGENET_SIFT_euclidean_1000.pkl\n",
      "Saved configuration: IMAGENET_SIFT_euclidean_2500.pkl\n",
      "Saved configuration: IMAGENET_SIFT_euclidean_5000.pkl\n",
      "Saved configuration: IMAGENET_SIFT_cosine_10.pkl\n",
      "Saved configuration: IMAGENET_SIFT_cosine_100.pkl\n",
      "Saved configuration: IMAGENET_SIFT_cosine_1000.pkl\n",
      "Saved configuration: IMAGENET_SIFT_cosine_2500.pkl\n",
      "Saved configuration: IMAGENET_SIFT_cosine_5000.pkl\n",
      "Removed 1 images due to missing descriptors.\n",
      "Saved configuration: IMAGENET_ORB_euclidean_10.pkl\n",
      "Saved configuration: IMAGENET_ORB_euclidean_100.pkl\n",
      "Saved configuration: IMAGENET_ORB_euclidean_1000.pkl\n",
      "Saved configuration: IMAGENET_ORB_euclidean_2500.pkl\n",
      "Saved configuration: IMAGENET_ORB_euclidean_5000.pkl\n",
      "Saved configuration: IMAGENET_ORB_cosine_10.pkl\n",
      "Saved configuration: IMAGENET_ORB_cosine_100.pkl\n",
      "Saved configuration: IMAGENET_ORB_cosine_1000.pkl\n",
      "Saved configuration: IMAGENET_ORB_cosine_2500.pkl\n",
      "Saved configuration: IMAGENET_ORB_cosine_5000.pkl\n"
     ]
    }
   ],
   "source": [
    "run_all_configurations('IMAGENET', X, y, extractor_dict, supported_distance_metrics, k_values, test_size=0.2)"
   ]
  }
 ],
 "metadata": {
  "kernelspec": {
   "display_name": "Python 3",
   "language": "python",
   "name": "python3"
  },
  "language_info": {
   "codemirror_mode": {
    "name": "ipython",
    "version": 3
   },
   "file_extension": ".py",
   "mimetype": "text/x-python",
   "name": "python",
   "nbconvert_exporter": "python",
   "pygments_lexer": "ipython3",
   "version": "3.11.9"
  }
 },
 "nbformat": 4,
 "nbformat_minor": 2
}
